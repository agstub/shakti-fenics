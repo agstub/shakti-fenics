{
 "cells": [
  {
   "cell_type": "markdown",
   "id": "80eb6396",
   "metadata": {},
   "source": [
    "This notebook plots the solutions. You can actually plot the progress while the solver is running to see if it makes sense."
   ]
  },
  {
   "cell_type": "markdown",
   "id": "ded7fb5b-5fab-4d0f-b0d2-6fae180d42fd",
   "metadata": {},
   "source": [
    "Various imports:"
   ]
  },
  {
   "cell_type": "code",
   "execution_count": null,
   "id": "4e7a8ace-65c4-48bf-a6ce-220d78d9bd4a",
   "metadata": {},
   "outputs": [],
   "source": [
    "%load_ext autoreload\n",
    "%autoreload 2\n",
    "# add path to code\n",
    "import sys\n",
    "sys.path.insert(0, '../source')\n",
    "sys.path.insert(0, '../scripts')\n",
    "import numpy as np\n",
    "from matplotlib.tri import Triangulation\n",
    "import matplotlib.pyplot as plt\n",
    "import matplotlib as mpl\n",
    "from pathlib import Path\n",
    "import importlib\n",
    "from dofs_to_serial import dofs_to_serial"
   ]
  },
  {
   "cell_type": "code",
   "execution_count": null,
   "metadata": {},
   "outputs": [],
   "source": [
    "# set the results to load\n",
    "resultsname = '../results/example'"
   ]
  },
  {
   "cell_type": "code",
   "execution_count": null,
   "metadata": {},
   "outputs": [],
   "source": [
    "# load the setup module for that experiment\n",
    "sys.path.insert(0, resultsname)\n",
    "setup_name = Path(f'{resultsname}/model_info.txt').read_text()\n",
    "setup = importlib.import_module(setup_name)\n",
    "\n",
    "# create triangulation for matplotlib plotting that mirrors the mesh triangulation.\n",
    "triang = Triangulation(setup.domain.geometry.x[:,0]/1e3,setup.domain.geometry.x[:,1]/1e3,setup.domain.geometry.dofmap)"
   ]
  },
  {
   "cell_type": "code",
   "execution_count": null,
   "id": "289a701c-b22e-4947-8024-986385e67d7e",
   "metadata": {},
   "outputs": [],
   "source": [
    "t = np.load(resultsname+'/t.npy')\n",
    "nodes_x = np.load(resultsname+'/nodes_x.npy')\n",
    "nodes_y = np.load(resultsname+'/nodes_y.npy')\n",
    "\n",
    "# create map from parallel dof numbering to serial dof numbering\n",
    "nodes_parallel = np.column_stack((nodes_x,nodes_y))\n",
    "nodes_serial = setup.domain.geometry.x[:,0:2]\n",
    "map_dofs = dofs_to_serial(nodes_parallel,nodes_serial)"
   ]
  },
  {
   "cell_type": "code",
   "execution_count": null,
   "metadata": {},
   "outputs": [],
   "source": [
    "# load results and reorder dof's to the serial ordering\n",
    "N = np.load(resultsname+'/N.npy')[:,map_dofs]\n",
    "b = np.load(resultsname+'/b.npy')[:,map_dofs]\n",
    "qx = np.load(resultsname+'/qx.npy')[:,map_dofs]\n",
    "qy = np.load(resultsname+'/qy.npy')[:,map_dofs]\n",
    "storage = np.load(resultsname+'/storage.npy')[:,map_dofs]\n",
    "\n",
    "# get water flow speed\n",
    "q_m = np.sqrt(qx**2+qy**2)"
   ]
  },
  {
   "cell_type": "code",
   "execution_count": null,
   "metadata": {},
   "outputs": [],
   "source": [
    "# get mean of N over the lake and max of q not over the lake\n",
    "N_mean = np.zeros(t.size)\n",
    "q_max = np.zeros(t.size)\n",
    "\n",
    "j_max=0\n",
    "\n",
    "for j in range(t.size):\n",
    "    if np.max(q_m[j,:]>1e-7):\n",
    "        N_j = N[j,:]\n",
    "        N_mean[j] = np.mean(N_j[storage[j,:]>1e-2])\n",
    "\n",
    "        q_j = q_m[j,:]\n",
    "        q_max[j] = np.max(q_j[storage[j,:]<1e-2])\n",
    "        j_max+=1 \n",
    "j_max -= 1"
   ]
  },
  {
   "cell_type": "code",
   "execution_count": null,
   "metadata": {},
   "outputs": [],
   "source": [
    "# choose to plot a single timestep OR a sequence to make a movie\n",
    "ind = [j_max]               # plot a single time step\n",
    "#ind = np.arange(0,j_max,1) # plot every time step for saving a movie\n",
    "\n",
    "# make clean movie directory\n",
    "!rm -rf {resultsname}/movie\n",
    "!mkdir {resultsname}/movie\n",
    "\n",
    "j=0\n",
    "\n",
    "if len(ind)>1:\n",
    "# use agg backend for saving pngs\n",
    "    mpl.use('agg')\n",
    "else:\n",
    "    %matplotlib inline\n",
    "\n",
    "for i in ind:\n",
    "    print('saved image '+str(j+1)+' out of '+str(len(ind))+' \\r',end='')\n",
    "    \n",
    "    fig = plt.figure(figsize=(12,12))\n",
    "            \n",
    "    plt.suptitle(r'$t=$'+'{:.2f}'.format(365*t[i]/3.154e7)+' d',y=1.04,fontsize=26,bbox=dict(boxstyle='round', facecolor='w', alpha=1))\n",
    "\n",
    "    plt.subplot(221)\n",
    "    N_i = N[i]\n",
    "    storage_i = storage[i]\n",
    "    p1 = plt.tricontourf(triang,N_i/1e6,levels=np.linspace(0,2,100),cmap='Purples',extend='both')\n",
    "    plt.tricontour(triang,storage_i,levels=[0.001],colors='k',linestyles='-',linewidths=2)\n",
    "    # plt.triplot(triang.x, triang.y, triang.triangles,linewidth=1,color='k',alpha=0.1)\n",
    "    plt.gca().set_aspect('equal', 'box')\n",
    "    plt.xlabel(r'$x$ (km)',fontsize=20)\n",
    "    plt.ylabel(r'$y$ (km)',fontsize=20)\n",
    "    plt.xticks(fontsize=16)\n",
    "    plt.yticks(fontsize=16)\n",
    "    cbar_ax = fig.add_axes([0.13, 0.9, 0.35, 0.02])\n",
    "    cbar = plt.colorbar(p1,orientation='horizontal',ticks=np.linspace(0,2,6),cax=cbar_ax)\n",
    "    cbar.set_label(r'$N$ (MPa)',fontsize=20,labelpad=15)\n",
    "    cbar.ax.tick_params(labelsize=16)\n",
    "    cbar.ax.xaxis.set_ticks_position('top')\n",
    "    cbar.ax.xaxis.set_label_position('top')\n",
    "\n",
    "    \n",
    "    plt.subplot(222)\n",
    "    q_i = q_m[i]\n",
    "    p2 = plt.tricontourf(triang,q_i,cmap='Blues',levels=np.linspace(0,1,100),extend='both')\n",
    "    plt.tricontour(triang,storage_i,levels=[0.001],colors='k',linestyles='-',linewidths=2)\n",
    "    plt.gca().set_aspect('equal', 'box')\n",
    "    plt.xlabel(r'$x$ (km)',fontsize=20)\n",
    "    plt.gca().yaxis.set_label_position(\"right\")\n",
    "    plt.gca().yaxis.tick_right()\n",
    "    plt.ylabel(r'$y$ (km)',fontsize=20)\n",
    "    plt.xticks(fontsize=16)\n",
    "    plt.yticks(fontsize=16)\n",
    "    cbar_ax = fig.add_axes([0.55, 0.9, 0.35, 0.02])\n",
    "    cbar = plt.colorbar(p2,orientation='horizontal',ticks=np.linspace(0,1,6),cax=cbar_ax)\n",
    "    cbar.set_label(r'$|\\mathbf{q}|$ (m$^2/$s)',fontsize=20,labelpad=15)\n",
    "    cbar.ax.tick_params(labelsize=16)\n",
    "    cbar.ax.xaxis.set_ticks_position('top')\n",
    "    cbar.ax.xaxis.set_label_position('top')\n",
    "    \n",
    "    plot = plt.subplot(212)\n",
    "    ax2 = plt.gca()\n",
    "    plt.plot(t[0:i]*365./3.154e7,N_mean[0:i]/1e6,color='purple',linestyle='-',linewidth=3,zorder=100)\n",
    "    plt.xticks(fontsize=16)\n",
    "    plt.yticks(fontsize=16)\n",
    "    plt.gca().tick_params(axis='y', colors=\"purple\")\n",
    "    plt.ylabel(r'$\\overline{N}$ (MPa)',fontsize=20,color='purple')\n",
    "    plt.ylim(np.floor(N_mean.max()/1e6),np.floor(N_mean.min()/1e6))\n",
    "    plt.xlabel(r'$t$ (d)',fontsize=20)\n",
    "    plt.xlim(0,t[j_max]*365./3.154e7)\n",
    "\n",
    "    plt.gca().twinx()\n",
    "    plt.plot(t[0:i]*365./3.154e7,q_max[0:i],color='royalblue',linewidth=3,zorder=10)\n",
    "    plt.gca().yaxis.set_label_position(\"right\")\n",
    "    plt.gca().yaxis.tick_right()   \n",
    "    plt.xticks(fontsize=16)\n",
    "    plt.yticks(fontsize=16)\n",
    "    plt.gca().tick_params(axis='y', colors=\"royalblue\")\n",
    "    plt.ylabel(r'$|\\mathbf{q}|_\\mathrm{max}$ (m$^2$/s) ',fontsize=20,color='royalblue')\n",
    "    plt.xlabel(r'$t$ (d)',fontsize=20)\n",
    "    plt.xlim(0,t[j_max]*365./3.154e7)\n",
    "    plt.ylim(0,np.ceil(q_max.max())+1)\n",
    "\n",
    "    plot.set_zorder(ax2.get_zorder()+1)\n",
    "    plot.set_frame_on(False)\n",
    "    plt.savefig('{}/movie/movie_'.format(resultsname)+str(j),bbox_inches='tight')\n",
    "    if len(ind)==1:\n",
    "        plt.show()\n",
    "    plt.close()\n",
    "    j+=1"
   ]
  }
 ],
 "metadata": {
  "kernelspec": {
   "display_name": "fenicsx-env",
   "language": "python",
   "name": "python3"
  },
  "language_info": {
   "codemirror_mode": {
    "name": "ipython",
    "version": 3
   },
   "file_extension": ".py",
   "mimetype": "text/x-python",
   "name": "python",
   "nbconvert_exporter": "python",
   "pygments_lexer": "ipython3",
   "version": "3.12.6"
  }
 },
 "nbformat": 4,
 "nbformat_minor": 5
}
