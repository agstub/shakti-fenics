{
 "cells": [
  {
   "cell_type": "markdown",
   "id": "ba1c6864-8a95-4c87-b34e-cd18af1c4c20",
   "metadata": {},
   "source": [
    "# SHAKTI FEniCS code"
   ]
  },
  {
   "cell_type": "markdown",
   "id": "80eb6396",
   "metadata": {},
   "source": [
    "The code requires [FEniCSx](https://fenicsproject.org). The notebook can be run \n",
    "through a [Docker](https://www.docker.com) container with the command:\n",
    "\n",
    "`docker run --init -ti -p 8888:8888 -v $(pwd):/home/fenics/shared -w /home/fenics/shared dolfinx/lab:stable`"
   ]
  },
  {
   "cell_type": "markdown",
   "id": "ded7fb5b-5fab-4d0f-b0d2-6fae180d42fd",
   "metadata": {},
   "source": [
    "Various imports:"
   ]
  },
  {
   "cell_type": "code",
   "execution_count": null,
   "id": "3d6c28cd-72eb-4a87-b35e-8f46cab8c368",
   "metadata": {},
   "outputs": [],
   "source": [
    "%load_ext autoreload\n",
    "%autoreload 2\n",
    "# add path to code\n",
    "import sys\n",
    "sys.path.insert(0, '../source')\n",
    "\n",
    "import matplotlib.pyplot as plt"
   ]
  },
  {
   "cell_type": "code",
   "execution_count": null,
   "id": "d06e692b-535d-4ee4-a1b7-5ba295fd3294",
   "metadata": {},
   "outputs": [],
   "source": [
    "import numpy as np\n",
    "from dolfinx.mesh import create_rectangle, CellType\n",
    "from dolfinx.fem import Function, FunctionSpace,Expression\n",
    "from ufl import dx\n",
    "from params import L,W,nx,ny,rho_i,g,H,resultsname,X,Y\n",
    "from mpi4py import MPI\n",
    "from fem_space import mixed_space, vector_space\n",
    "from constitutive import potential\n",
    "from scipy.spatial import Delaunay\n",
    "from scipy.interpolate import LinearNDInterpolator"
   ]
  },
  {
   "cell_type": "code",
   "execution_count": null,
   "id": "985f3e66-af31-40aa-8738-c6a84968a97c",
   "metadata": {},
   "outputs": [],
   "source": [
    "from setup import domain, z_b, z_s"
   ]
  },
  {
   "cell_type": "code",
   "execution_count": null,
   "id": "79a24497-fb6e-4328-9e0d-a9b33481e43c",
   "metadata": {},
   "outputs": [],
   "source": [
    "V0 = FunctionSpace(domain, (\"CG\", 1))\n",
    "\n",
    "p,p_norm_ = potential(z_b,z_s)\n",
    "\n",
    "p_norm = Function(V0)\n",
    "px = Function(V0)\n",
    "py = Function(V0)\n",
    "\n",
    "\n",
    "p_norm.interpolate(Expression(p_norm_, V0.element.interpolation_points()))\n",
    "px.interpolate(Expression(p[0], V0.element.interpolation_points()))\n",
    "py.interpolate(Expression(p[1], V0.element.interpolation_points()))\n",
    "\n",
    "\n",
    "points = domain.geometry.x[:,0:2]\n",
    "triang = Delaunay(points)\n",
    "\n",
    "p_norm_int = LinearNDInterpolator(triang, p_norm.x.array)(X,Y)\n",
    "px_int = LinearNDInterpolator(triang, px.x.array)(X,Y)\n",
    "py_int = LinearNDInterpolator(triang, py.x.array)(X,Y)\n",
    "zb_int = LinearNDInterpolator(triang, z_b.x.array)(X,Y)\n",
    "zs_int = LinearNDInterpolator(triang, z_s.x.array)(X,Y)"
   ]
  },
  {
   "cell_type": "code",
   "execution_count": null,
   "id": "017ba4ad-a251-40ef-b335-4ee717b097dc",
   "metadata": {},
   "outputs": [],
   "source": [
    "plt.figure(figsize=(14,6))\n",
    "plt.suptitle(r'model setup',y=1.02,fontsize=26,bbox=dict(boxstyle='round', facecolor='w', alpha=1))\n",
    "plt.subplot(131)\n",
    "plt.title(r'surface elevation',fontsize = 20)\n",
    "p1 = plt.contourf(X/1e3,Y/1e3,zs_int,cmap='Blues',extend='both')\n",
    "cbar = plt.colorbar(p1, orientation='horizontal')\n",
    "cbar.set_label(r'$z_\\mathrm{s}$ (m)',fontsize=20)\n",
    "cbar.ax.tick_params(labelsize=12)\n",
    "plt.xlabel(r'$x$ (km)',fontsize=16)\n",
    "plt.ylabel(r'$y$ (km)',fontsize=16)\n",
    "plt.xticks(fontsize=16)\n",
    "plt.yticks(fontsize=16)\n",
    "plt.tight_layout()\n",
    "\n",
    "plt.subplot(132)\n",
    "plt.title(r'bed elevation',fontsize = 20)\n",
    "p1 = plt.contourf(X/1e3,Y/1e3,zb_int,cmap='Blues',extend='both')\n",
    "cbar = plt.colorbar(p1, orientation='horizontal')\n",
    "cbar.set_label(r'$z_\\mathrm{b}$ (m)',fontsize=20)\n",
    "cbar.ax.tick_params(labelsize=12)\n",
    "plt.xlabel(r'$x$ (km)',fontsize=16)\n",
    "plt.xticks(fontsize=16)\n",
    "plt.gca().yaxis.set_ticklabels([])\n",
    "plt.tight_layout()\n",
    "\n",
    "plt.subplot(133)\n",
    "plt.title(r'hyrdraulic gradient',fontsize = 20)\n",
    "p1 = plt.contourf(X/1e3,Y/1e3,p_norm_int,cmap='Blues',extend='both')\n",
    "plt.contour(X/1e3,Y/1e3,p_norm_int,colors='k',linewidths=3,levels=[0.009])\n",
    "plt.quiver(X[::10,::10]/1e3,Y[::10,::10]/1e3,-px_int[::10,::10],-py_int[::10,::10])\n",
    "cbar = plt.colorbar(p1, orientation='horizontal')\n",
    "cbar.set_label(r'$|\\nabla {h}_0|$',fontsize=20)\n",
    "cbar.ax.tick_params(labelsize=12)\n",
    "plt.gca().yaxis.set_label_position(\"right\")\n",
    "plt.gca().yaxis.tick_right()\n",
    "plt.xlabel(r'$x$ (km)',fontsize=16)\n",
    "plt.ylabel(r'$y$ (km)',fontsize=16)\n",
    "plt.xticks(fontsize=16)\n",
    "plt.yticks(fontsize=16)\n",
    "plt.tight_layout()\n",
    "plt.savefig('setup',bbox_inches='tight')\n",
    "plt.show()\n",
    "plt.close()\n"
   ]
  },
  {
   "cell_type": "code",
   "execution_count": null,
   "id": "5131f65b-362a-428c-bcc3-70b56e2da50f",
   "metadata": {},
   "outputs": [],
   "source": [
    "sigma = 0.02/3.\n",
    "storage = np.exp(1)**(-p_norm_int**8/sigma**8)\n",
    "\n",
    "plt.figure(figsize=(6,6))\n",
    "p1 = plt.contourf(X/1e3,Y/1e3,storage,cmap='Blues',levels=np.arange(0,1.1,0.25),extend='both')\n",
    "cbar = plt.colorbar(p1, orientation='horizontal')\n",
    "cbar.set_label(r'storage $\\nu$',fontsize=20)\n",
    "cbar.ax.tick_params(labelsize=12)\n",
    "plt.xlabel(r'$x$ (km)',fontsize=16)\n",
    "plt.ylabel(r'$y$ (km)',fontsize=16)\n",
    "plt.xticks(fontsize=16)\n",
    "plt.yticks(fontsize=16)\n",
    "plt.tight_layout()\n",
    "plt.show()\n",
    "plt.close()"
   ]
  },
  {
   "cell_type": "code",
   "execution_count": null,
   "id": "e16af390-bffc-4b40-854c-6665907f3460",
   "metadata": {},
   "outputs": [],
   "source": []
  }
 ],
 "metadata": {
  "kernelspec": {
   "display_name": "Python 3 (ipykernel)",
   "language": "python",
   "name": "python3"
  },
  "language_info": {
   "codemirror_mode": {
    "name": "ipython",
    "version": 3
   },
   "file_extension": ".py",
   "mimetype": "text/x-python",
   "name": "python",
   "nbconvert_exporter": "python",
   "pygments_lexer": "ipython3",
   "version": "3.10.6"
  }
 },
 "nbformat": 4,
 "nbformat_minor": 5
}
