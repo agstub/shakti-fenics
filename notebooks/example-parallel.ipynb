{
 "cells": [
  {
   "cell_type": "markdown",
   "id": "ba1c6864-8a95-4c87-b34e-cd18af1c4c20",
   "metadata": {},
   "source": [
    "# SHAKTI FEniCS code"
   ]
  },
  {
   "cell_type": "markdown",
   "id": "80eb6396",
   "metadata": {},
   "source": [
    "The code requires [FEniCSx](https://fenicsproject.org). The notebook can be run \n",
    "through a [Docker](https://www.docker.com) container with the command:\n",
    "\n",
    "`docker run --init -ti -p 8888:8888 -v $(pwd):/home/fenics/shared -w /home/fenics/shared dolfinx/lab:stable`"
   ]
  },
  {
   "cell_type": "markdown",
   "id": "ded7fb5b-5fab-4d0f-b0d2-6fae180d42fd",
   "metadata": {},
   "source": [
    "Various imports:"
   ]
  },
  {
   "cell_type": "code",
   "execution_count": null,
   "id": "3d6c28cd-72eb-4a87-b35e-8f46cab8c368",
   "metadata": {},
   "outputs": [],
   "source": [
    "%load_ext autoreload\n",
    "%autoreload 2\n",
    "# add path to code\n",
    "import sys\n",
    "sys.path.insert(0, '../source')\n",
    "\n",
    "from params import rho_i,g,H,X,Y\n",
    "import numpy as np\n",
    "import matplotlib.pyplot as plt"
   ]
  },
  {
   "cell_type": "markdown",
   "id": "6b3e4766-30fc-4ab6-8f8e-d414317a77ac",
   "metadata": {},
   "source": [
    "Set model options in main.py and then run the code: "
   ]
  },
  {
   "cell_type": "code",
   "execution_count": null,
   "id": "82048b3c-8b18-4c5d-b3e0-8467d358eae3",
   "metadata": {
    "tags": []
   },
   "outputs": [],
   "source": [
    "!rm -r results\n",
    "!mpirun -np 4 python3 ../source/main.py"
   ]
  },
  {
   "cell_type": "markdown",
   "id": "9d7e791f",
   "metadata": {},
   "source": [
    "Load results:"
   ]
  },
  {
   "cell_type": "code",
   "execution_count": null,
   "id": "289a701c-b22e-4947-8024-986385e67d7e",
   "metadata": {},
   "outputs": [],
   "source": [
    "b = np.load('./results/b.npy')\n",
    "N = np.load('./results/N.npy')\n",
    "qx = np.load('./results/qx.npy')\n",
    "qy = np.load('./results/qy.npy')\n",
    "t = np.load('./results/t.npy')"
   ]
  },
  {
   "cell_type": "markdown",
   "id": "326fa569-c567-4675-89df-84424fc867c0",
   "metadata": {},
   "source": [
    "Save png's for movie:"
   ]
  },
  {
   "cell_type": "code",
   "execution_count": null,
   "id": "017ba4ad-a251-40ef-b335-4ee717b097dc",
   "metadata": {},
   "outputs": [],
   "source": [
    "!rm -r movie\n",
    "!mkdir movie\n",
    "\n",
    "# use agg backend for saving pngs\n",
    "import matplotlib as mpl\n",
    "mpl.use('agg')\n",
    "\n",
    "# get water flow speed\n",
    "q_m = np.sqrt(qx**2+qy**2)\n",
    "\n",
    "j=0\n",
    "ind = np.arange(0,t.size,1)\n",
    "# %matplotlib inline\n",
    "for i in ind:\n",
    "    print('saved image '+str(j+1)+' out of '+str(ind.size)+' \\r',end='')\n",
    "\n",
    "    plt.figure(figsize=(12,5))\n",
    "    plt.subplot(131)\n",
    "    b_i = b[i,:,:]\n",
    "    plt.contourf(X/1e3,Y/1e3,b_i,levels=np.linspace(0,0.1,100),cmap='Blues',extend='both')\n",
    "    cbar = plt.colorbar(orientation='horizontal',ticks=np.linspace(0,0.1,6))\n",
    "    cbar.set_label(r'$b$ (m)',fontsize=20)\n",
    "    cbar.ax.tick_params(labelsize=12)\n",
    "    plt.xlabel(r'$x$ (km)',fontsize=16)\n",
    "    plt.ylabel(r'$y$ (km)',fontsize=16)\n",
    "    plt.xticks(fontsize=16)\n",
    "    plt.yticks(fontsize=16)\n",
    "    plt.axis('equal')\n",
    "\n",
    "    plt.subplot(132)\n",
    "    N_i = N[i,:,:]\n",
    "    plt.contourf(X/1e3,Y/1e3,N_i/(rho_i*g*H),levels=np.linspace(0,1,100),cmap='Blues_r',extend='both')\n",
    "    cbar = plt.colorbar(orientation='horizontal',ticks=np.linspace(0,1,6))\n",
    "    cbar.set_label(r'$N\\,/\\,p_\\mathrm{i}$ (m)',fontsize=20)\n",
    "    cbar.ax.tick_params(labelsize=12)\n",
    "    plt.xlabel(r'$x$ (km)',fontsize=16)\n",
    "    plt.xticks(fontsize=16)\n",
    "    plt.gca().yaxis.set_ticklabels([])\n",
    "    plt.axis('equal')\n",
    "\n",
    "    plt.subplot(133)\n",
    "    q_i = q_m[i,:,:]\n",
    "    plt.contourf(X/1e3,Y/1e3,q_i,cmap='Blues',levels=np.linspace(0,0.5,100),extend='both')\n",
    "    cbar = plt.colorbar(orientation='horizontal',ticks=np.linspace(0,0.5,6))\n",
    "    cbar.set_label(r'$|\\mathbf{q}|$ (m$^2$/s)',fontsize=20)\n",
    "    cbar.ax.tick_params(labelsize=12)\n",
    "    plt.gca().yaxis.set_label_position(\"right\")\n",
    "    plt.gca().yaxis.tick_right()\n",
    "    plt.xlabel(r'$x$ (km)',fontsize=16)\n",
    "    plt.ylabel(r'$y$ (km)',fontsize=16)\n",
    "    plt.xticks(fontsize=16)\n",
    "    plt.yticks(fontsize=16)\n",
    "    plt.axis('equal')\n",
    "    plt.savefig('./movie/'+str(j))\n",
    "    # plt.show()\n",
    "    plt.close()\n",
    "    j+=1"
   ]
  },
  {
   "cell_type": "code",
   "execution_count": null,
   "id": "5064b06d-16b1-493d-a8c3-9f168963ec2c",
   "metadata": {},
   "outputs": [],
   "source": [
    "%matplotlib inline\n",
    "plt.figure(figsize=(8,6))\n",
    "plt.subplot(211)\n",
    "plt.plot(t*365./3.154e7,np.min(N,axis=(1,2))/(rho_i*g*H),label=r'min')\n",
    "plt.plot(t*365./3.154e7,np.mean(N,axis=(1,2))/(rho_i*g*H),label=r'mean')\n",
    "plt.xticks(fontsize=16)\n",
    "plt.yticks(fontsize=16)\n",
    "plt.ylabel(r'$N\\,/\\,p_\\mathrm{i}$',fontsize=20)\n",
    "# plt.ylim(0.8,0.3)\n",
    "plt.gca().xaxis.set_ticklabels([])\n",
    "plt.legend(fontsize=12)\n",
    "# plt.xlim(100,200)\n",
    "\n",
    "plt.subplot(212)\n",
    "plt.plot(t*365./3.154e7,np.max(q_m,axis=(1,2))/5.,label=r'max')\n",
    "plt.plot(t*365./3.154e7,np.mean(q_m,axis=(1,2))/5.,label=r'mean')\n",
    "plt.xticks(fontsize=16)\n",
    "plt.yticks(fontsize=16)\n",
    "plt.ylabel(r'$|\\mathbf{q}|\\,/\\,q_\\mathrm{in}$',fontsize=20)\n",
    "plt.xlabel(r'$t$ (d)',fontsize=20)\n",
    "plt.legend(fontsize=12)\n",
    "plt.savefig('timeseries')\n",
    "plt.show()\n",
    "plt.close()"
   ]
  }
 ],
 "metadata": {
  "kernelspec": {
   "display_name": "Python 3 (ipykernel)",
   "language": "python",
   "name": "python3"
  },
  "language_info": {
   "codemirror_mode": {
    "name": "ipython",
    "version": 3
   },
   "file_extension": ".py",
   "mimetype": "text/x-python",
   "name": "python",
   "nbconvert_exporter": "python",
   "pygments_lexer": "ipython3",
   "version": "3.10.6"
  }
 },
 "nbformat": 4,
 "nbformat_minor": 5
}
