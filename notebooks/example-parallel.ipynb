{
 "cells": [
  {
   "cell_type": "markdown",
   "id": "ba1c6864-8a95-4c87-b34e-cd18af1c4c20",
   "metadata": {},
   "source": [
    "# SHAKTI FEniCS code"
   ]
  },
  {
   "cell_type": "markdown",
   "id": "80eb6396",
   "metadata": {},
   "source": [
    "The code requires [FEniCSx](https://fenicsproject.org). The notebook can be run \n",
    "through a [Docker](https://www.docker.com) container with the command:\n",
    "\n",
    "`docker run --init -ti -p 8888:8888 -v $(pwd):/home/fenics/shared -w /home/fenics/shared dolfinx/lab:stable`"
   ]
  },
  {
   "cell_type": "markdown",
   "id": "ded7fb5b-5fab-4d0f-b0d2-6fae180d42fd",
   "metadata": {},
   "source": [
    "Various imports:"
   ]
  },
  {
   "cell_type": "code",
   "execution_count": null,
   "id": "3d6c28cd-72eb-4a87-b35e-8f46cab8c368",
   "metadata": {},
   "outputs": [],
   "source": [
    "%load_ext autoreload\n",
    "%autoreload 2\n",
    "# add path to code\n",
    "import sys\n",
    "sys.path.insert(0, '../source')\n",
    "\n",
    "from params import rho_i,g,H,X,Y,resultsname\n",
    "import numpy as np\n",
    "import matplotlib.pyplot as plt"
   ]
  },
  {
   "cell_type": "markdown",
   "id": "6b3e4766-30fc-4ab6-8f8e-d414317a77ac",
   "metadata": {},
   "source": [
    "Set model options in main.py and then run the code: "
   ]
  },
  {
   "cell_type": "code",
   "execution_count": null,
   "id": "b728bcd2-b069-48b8-8afd-5bac2a9f5bc7",
   "metadata": {},
   "outputs": [],
   "source": [
    "!rm -r {resultsname}"
   ]
  },
  {
   "cell_type": "code",
   "execution_count": null,
   "id": "f5fcabac-50d5-48f2-93d3-b85050151bc0",
   "metadata": {
    "tags": []
   },
   "outputs": [],
   "source": [
    "!mpirun -np 16 python3 ../source/main.py"
   ]
  },
  {
   "cell_type": "markdown",
   "id": "9d7e791f",
   "metadata": {},
   "source": [
    "Load results:"
   ]
  },
  {
   "cell_type": "code",
   "execution_count": null,
   "id": "289a701c-b22e-4947-8024-986385e67d7e",
   "metadata": {},
   "outputs": [],
   "source": [
    "b = np.load('./'+resultsname+'/b.npy')\n",
    "N = np.load('./'+resultsname+'/N.npy')\n",
    "qx = np.load('./'+resultsname+'/qx.npy')\n",
    "qy = np.load('./'+resultsname+'/qy.npy')\n",
    "t = np.load('./'+resultsname+'/t.npy')"
   ]
  },
  {
   "cell_type": "markdown",
   "id": "326fa569-c567-4675-89df-84424fc867c0",
   "metadata": {},
   "source": [
    "Save png's for movie:"
   ]
  },
  {
   "cell_type": "code",
   "execution_count": null,
   "id": "017ba4ad-a251-40ef-b335-4ee717b097dc",
   "metadata": {},
   "outputs": [],
   "source": [
    "!rm -r movie_*\n",
    "!mkdir movie_{resultsname}\n",
    "\n",
    "# use agg backend for saving pngs\n",
    "import matplotlib as mpl\n",
    "mpl.use('agg')\n",
    "\n",
    "# get water flow speed\n",
    "q_m = np.sqrt(qx**2+qy**2)\n",
    "\n",
    "j=0\n",
    "ind = np.arange(0,t.size,1)\n",
    "\n",
    "ind = np.array([t.size-1])\n",
    "%matplotlib inline\n",
    "\n",
    "for i in ind:\n",
    "    print('saved image '+str(j+1)+' out of '+str(ind.size)+' \\r',end='')\n",
    "    \n",
    "    if np.abs(b[i,:,:]).min()>1e-7:\n",
    "        plt.figure(figsize=(12,5))\n",
    "        plt.subplot(131)\n",
    "        b_i = b[i,:,:]\n",
    "        plt.suptitle(r'$t=$'+'{:.2f}'.format(365*t[i]/3.154e7)+' d',fontsize=24)\n",
    "        plt.contourf(X/1e3,Y/1e3,b_i,levels=np.linspace(0,0.1,100),cmap='Blues',extend='both')\n",
    "        cbar = plt.colorbar(orientation='horizontal',ticks=np.linspace(0,0.1,6))\n",
    "        cbar.set_label(r'$b$ (m)',fontsize=20)\n",
    "        cbar.ax.tick_params(labelsize=12)\n",
    "        plt.xlabel(r'$x$ (km)',fontsize=16)\n",
    "        plt.ylabel(r'$y$ (km)',fontsize=16)\n",
    "        plt.xticks(fontsize=16)\n",
    "        plt.yticks(fontsize=16)\n",
    "        plt.axis('equal')\n",
    "\n",
    "        plt.subplot(132)\n",
    "        N_i = N[i,:,:]\n",
    "        plt.contourf(X/1e3,Y/1e3,N_i/(rho_i*g*H),levels=np.linspace(0,1,100),cmap='Blues_r',extend='both')\n",
    "        cbar = plt.colorbar(orientation='horizontal',ticks=np.linspace(0,1,6))\n",
    "        cbar.set_label(r'$N\\,/\\,p_\\mathrm{i}$ (m)',fontsize=20)\n",
    "        cbar.ax.tick_params(labelsize=12)\n",
    "        plt.xlabel(r'$x$ (km)',fontsize=16)\n",
    "        plt.xticks(fontsize=16)\n",
    "        plt.gca().yaxis.set_ticklabels([])\n",
    "        plt.axis('equal')\n",
    "\n",
    "        plt.subplot(133)\n",
    "        q_i = q_m[i,:,:]\n",
    "        plt.contourf(X/1e3,Y/1e3,q_i,cmap='Blues',levels=np.linspace(0,1,100),extend='both')\n",
    "        cbar = plt.colorbar(orientation='horizontal',ticks=np.linspace(0,1,6))\n",
    "        cbar.set_label(r'$|\\mathbf{q}|$ (m$^2$/s)',fontsize=20)\n",
    "        cbar.ax.tick_params(labelsize=12)\n",
    "        plt.gca().yaxis.set_label_position(\"right\")\n",
    "        plt.gca().yaxis.tick_right()\n",
    "        plt.xlabel(r'$x$ (km)',fontsize=16)\n",
    "        plt.ylabel(r'$y$ (km)',fontsize=16)\n",
    "        plt.xticks(fontsize=16)\n",
    "        plt.yticks(fontsize=16)\n",
    "        plt.axis('equal')\n",
    "        plt.savefig('./movie_'+resultsname+'/'+str(j))\n",
    "        plt.show()\n",
    "        plt.close()\n",
    "        j+=1"
   ]
  },
  {
   "cell_type": "code",
   "execution_count": null,
   "id": "5064b06d-16b1-493d-a8c3-9f168963ec2c",
   "metadata": {},
   "outputs": [],
   "source": [
    "%matplotlib inline\n",
    "plt.figure(figsize=(8,6))\n",
    "plt.subplot(211)\n",
    "plt.plot(t*365./3.154e7,np.min(N,axis=(1,2))/(rho_i*g*H),label=r'min')\n",
    "plt.plot(t*365./3.154e7,np.mean(N,axis=(1,2))/(rho_i*g*H),label=r'mean')\n",
    "plt.xticks(fontsize=16)\n",
    "plt.yticks(fontsize=16)\n",
    "plt.ylabel(r'$N\\,/\\,p_\\mathrm{i}$',fontsize=20)\n",
    "plt.ylim(1,-0.2)\n",
    "plt.gca().xaxis.set_ticklabels([])\n",
    "plt.legend(fontsize=12)\n",
    "# plt.xlim(0,20)\n",
    "\n",
    "plt.subplot(212)\n",
    "plt.plot(t*365./3.154e7,np.max(q_m,axis=(1,2)),label=r'max')\n",
    "plt.plot(t*365./3.154e7,np.mean(q_m,axis=(1,2)),label=r'mean')\n",
    "plt.xticks(fontsize=16)\n",
    "plt.yticks(fontsize=16)\n",
    "plt.ylabel(r'$|\\mathbf{q}|$',fontsize=20)\n",
    "plt.xlabel(r'$t$ (d)',fontsize=20)\n",
    "plt.legend(fontsize=12)\n",
    "# plt.xlim(0,20)\n",
    "plt.savefig('plot-'+resultsname)\n",
    "plt.show()\n",
    "plt.close()"
   ]
  },
  {
   "cell_type": "code",
   "execution_count": null,
   "id": "a95097a5-be36-4177-a24b-54b9049f8b19",
   "metadata": {},
   "outputs": [],
   "source": []
  }
 ],
 "metadata": {
  "kernelspec": {
   "display_name": "Python 3 (ipykernel)",
   "language": "python",
   "name": "python3"
  },
  "language_info": {
   "codemirror_mode": {
    "name": "ipython",
    "version": 3
   },
   "file_extension": ".py",
   "mimetype": "text/x-python",
   "name": "python",
   "nbconvert_exporter": "python",
   "pygments_lexer": "ipython3",
   "version": "3.10.6"
  }
 },
 "nbformat": 4,
 "nbformat_minor": 5
}
