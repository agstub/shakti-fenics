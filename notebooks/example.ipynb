{
 "cells": [
  {
   "cell_type": "markdown",
   "id": "ba1c6864-8a95-4c87-b34e-cd18af1c4c20",
   "metadata": {},
   "source": [
    "# SHAKTI FEniCS code"
   ]
  },
  {
   "cell_type": "markdown",
   "id": "80eb6396",
   "metadata": {},
   "source": [
    "The code requires [FEniCSx](https://fenicsproject.org). The notebook can be run \n",
    "through a [Docker](https://www.docker.com) container with the command:\n",
    "\n",
    "`docker run --init -ti -p 8888:8888 -v $(pwd):/home/fenics/shared -w /home/fenics/shared dolfinx/lab:stable`"
   ]
  },
  {
   "cell_type": "markdown",
   "id": "ded7fb5b-5fab-4d0f-b0d2-6fae180d42fd",
   "metadata": {},
   "source": [
    "Various imports:"
   ]
  },
  {
   "cell_type": "code",
   "execution_count": 1,
   "id": "3d6c28cd-72eb-4a87-b35e-8f46cab8c368",
   "metadata": {},
   "outputs": [],
   "source": [
    "%load_ext autoreload\n",
    "%autoreload 2\n",
    "# add path to code\n",
    "import sys\n",
    "sys.path.insert(0, '../source')"
   ]
  },
  {
   "cell_type": "markdown",
   "id": "6b3e4766-30fc-4ab6-8f8e-d414317a77ac",
   "metadata": {},
   "source": [
    "Set model options in main.py and then run the code: "
   ]
  },
  {
   "cell_type": "code",
   "execution_count": 2,
   "metadata": {},
   "outputs": [],
   "source": [
    "from params import resultsname\n",
    "!rm -rf {resultsname}"
   ]
  },
  {
   "cell_type": "code",
   "execution_count": 3,
   "metadata": {},
   "outputs": [
    {
     "name": "stdout",
     "output_type": "stream",
     "text": [
      "time step 100 out of 100 \r"
     ]
    }
   ],
   "source": [
    "!mpirun -np 4 python3 ../source/main.py"
   ]
  }
 ],
 "metadata": {
  "kernelspec": {
   "display_name": "Python 3 (ipykernel)",
   "language": "python",
   "name": "python3"
  },
  "language_info": {
   "codemirror_mode": {
    "name": "ipython",
    "version": 3
   },
   "file_extension": ".py",
   "mimetype": "text/x-python",
   "name": "python",
   "nbconvert_exporter": "python",
   "pygments_lexer": "ipython3",
   "version": "3.12.6"
  }
 },
 "nbformat": 4,
 "nbformat_minor": 5
}
