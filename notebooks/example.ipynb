{
 "cells": [
  {
   "cell_type": "markdown",
   "id": "ba1c6864-8a95-4c87-b34e-cd18af1c4c20",
   "metadata": {},
   "source": [
    "# SHAKTI FEniCS code"
   ]
  },
  {
   "cell_type": "markdown",
   "id": "80eb6396",
   "metadata": {},
   "source": [
    "The code requires [FEniCSx](https://fenicsproject.org). "
   ]
  },
  {
   "cell_type": "code",
   "execution_count": 1,
   "id": "3d6c28cd-72eb-4a87-b35e-8f46cab8c368",
   "metadata": {},
   "outputs": [],
   "source": [
    "%load_ext autoreload\n",
    "%autoreload 2\n",
    "import sys, time\n",
    "sys.path.insert(0, '../source')"
   ]
  },
  {
   "cell_type": "markdown",
   "id": "6b3e4766-30fc-4ab6-8f8e-d414317a77ac",
   "metadata": {},
   "source": [
    "Set model options in main.py and then run the code: "
   ]
  },
  {
   "cell_type": "code",
   "execution_count": 2,
   "metadata": {},
   "outputs": [
    {
     "name": "stdout",
     "output_type": "stream",
     "text": [
      "rm: /Users/agstubbl/Desktop/shakti-fenics/results/cooke2: No such file or directory\n"
     ]
    }
   ],
   "source": [
    "!rm -r /Users/agstubbl/Desktop/shakti-fenics/results/cooke2"
   ]
  },
  {
   "cell_type": "code",
   "execution_count": 3,
   "metadata": {},
   "outputs": [
    {
     "name": "stdout",
     "output_type": "stream",
     "text": [
      "Info    : Reading '../meshes/cooke2.msh'...\n",
      "Info    : 301 entities\n",
      "Info    : 1307 nodes\n",
      "Info    : 2462 elements\n",
      "Info    : Done reading '../meshes/cooke2.msh'\n",
      "\n",
      "refining mesh...\n",
      "\n",
      "time step 3000 out of 3000 \r"
     ]
    }
   ],
   "source": [
    "!mpirun -np 4 python3 ../source/main.py setup_cooke2"
   ]
  }
 ],
 "metadata": {
  "kernelspec": {
   "display_name": "Python 3 (ipykernel)",
   "language": "python",
   "name": "python3"
  },
  "language_info": {
   "codemirror_mode": {
    "name": "ipython",
    "version": 3
   },
   "file_extension": ".py",
   "mimetype": "text/x-python",
   "name": "python",
   "nbconvert_exporter": "python",
   "pygments_lexer": "ipython3",
   "version": "3.12.6"
  }
 },
 "nbformat": 4,
 "nbformat_minor": 5
}
